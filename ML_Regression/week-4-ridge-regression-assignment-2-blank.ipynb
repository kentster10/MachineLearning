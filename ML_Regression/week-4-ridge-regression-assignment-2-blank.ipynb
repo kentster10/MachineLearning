{
 "cells": [
  {
   "cell_type": "markdown",
   "metadata": {},
   "source": [
    "# Regression Week 4: Ridge Regression (gradient descent)"
   ]
  },
  {
   "cell_type": "markdown",
   "metadata": {},
   "source": [
    "In this notebook, you will implement ridge regression via gradient descent. You will:\n",
    "* Convert an SFrame into a Numpy array\n",
    "* Write a Numpy function to compute the derivative of the regression weights with respect to a single feature\n",
    "* Write gradient descent function to compute the regression weights given an initial weight vector, step size, tolerance, and L2 penalty"
   ]
  },
  {
   "cell_type": "markdown",
   "metadata": {},
   "source": [
    "# Fire up graphlab create"
   ]
  },
  {
   "cell_type": "markdown",
   "metadata": {},
   "source": [
    "Make sure you have the latest version of GraphLab Create (>= 1.7)"
   ]
  },
  {
   "cell_type": "code",
   "execution_count": 4,
   "metadata": {
    "collapsed": false
   },
   "outputs": [
    {
     "name": "stderr",
     "output_type": "stream",
     "text": [
      "A newer version of GraphLab Create (v1.8.3) is available! Your current version is v1.8.1.\n",
      "\n",
      "You can use pip to upgrade the graphlab-create package. For more information see https://dato.com/products/create/upgrade.\n"
     ]
    }
   ],
   "source": [
    "import graphlab"
   ]
  },
  {
   "cell_type": "markdown",
   "metadata": {},
   "source": [
    "# Load in house sales data\n",
    "\n",
    "Dataset is from house sales in King County, the region where the city of Seattle, WA is located."
   ]
  },
  {
   "cell_type": "code",
   "execution_count": 5,
   "metadata": {
    "collapsed": false
   },
   "outputs": [
    {
     "name": "stderr",
     "output_type": "stream",
     "text": [
      "[INFO] This non-commercial license of GraphLab Create is assigned to rkent719@gmail.com and will expire on January 16, 2017. For commercial licensing options, visit https://dato.com/buy/.\n",
      "\n",
      "[INFO] Start server at: ipc:///tmp/graphlab_server-10784 - Server binary: /Users/ryankent/anaconda/envs/dato-env/lib/python2.7/site-packages/graphlab/unity_server - Server log: /tmp/graphlab_server_1456284155.log\n",
      "[INFO] GraphLab Server Version: 1.8.1\n"
     ]
    }
   ],
   "source": [
    "sales = graphlab.SFrame('kc_house_data.gl/')"
   ]
  },
  {
   "cell_type": "markdown",
   "metadata": {},
   "source": [
    "If we want to do any \"feature engineering\" like creating new features or adjusting existing ones we should do this directly using the SFrames as seen in the first notebook of Week 2. For this notebook, however, we will work with the existing features."
   ]
  },
  {
   "cell_type": "markdown",
   "metadata": {},
   "source": [
    "# Import useful functions from previous notebook"
   ]
  },
  {
   "cell_type": "markdown",
   "metadata": {},
   "source": [
    "As in Week 2, we convert the SFrame into a 2D Numpy array. Copy and paste `get_numpy_data()` from the second notebook of Week 2."
   ]
  },
  {
   "cell_type": "code",
   "execution_count": 6,
   "metadata": {
    "collapsed": true
   },
   "outputs": [],
   "source": [
    "import numpy as np # note this allows us to refer to numpy as np instead "
   ]
  },
  {
   "cell_type": "code",
   "execution_count": 7,
   "metadata": {
    "collapsed": true
   },
   "outputs": [],
   "source": [
    "def get_numpy_data(data_sframe, features, output):\n",
    "    data_sframe['constant'] = 1 # add a constant column to an SFrame\n",
    "    # prepend variable 'constant' to the features list\n",
    "    features = ['constant'] + features\n",
    "    # select the columns of data_SFrame given by the ‘features’ list into the SFrame ‘features_sframe’\n",
    "    features_sframe = data_sframe[features]\n",
    "    \n",
    "    # this will convert the features_sframe into a numpy matrix with GraphLab Create >= 1.7!!\n",
    "    features_matrix = features_sframe.to_numpy()\n",
    "    # assign the column of data_sframe associated with the target to the variable ‘output_sarray’\n",
    "    output_sarray = data_sframe[output]\n",
    "\n",
    "    # this will convert the SArray into a numpy array:\n",
    "    output_array = output_sarray.to_numpy() # GraphLab Create>= 1.7!!\n",
    "    return(features_matrix, output_array)"
   ]
  },
  {
   "cell_type": "markdown",
   "metadata": {},
   "source": [
    "Also, copy and paste the `predict_output()` function to compute the predictions for an entire matrix of features given the matrix and the weights:"
   ]
  },
  {
   "cell_type": "code",
   "execution_count": 33,
   "metadata": {
    "collapsed": true
   },
   "outputs": [],
   "source": [
    "def predict_outcome(feature_matrix, weights):\n",
    "    ''' Returns an array of predictions\n",
    "    \n",
    "    inputs - \n",
    "        feature_matrix - 2-D array of dimensions data points by features\n",
    "        coefficients - 1-D array of estimated feature coefficients\n",
    "        \n",
    "    output - 1-D array of predictions\n",
    "    '''\n",
    "    predictions = np.dot(feature_matrix, weights)\n",
    "    print predictions\n",
    "    return(predictions)"
   ]
  },
  {
   "cell_type": "markdown",
   "metadata": {},
   "source": [
    "# Computing the Derivative"
   ]
  },
  {
   "cell_type": "markdown",
   "metadata": {},
   "source": [
    "We are now going to move to computing the derivative of the regression cost function. Recall that the cost function is the sum over the data points of the squared difference between an observed output and a predicted output, plus the L2 penalty term.\n",
    "```\n",
    "Cost(w)\n",
    "= SUM[ (prediction - output)^2 ]\n",
    "+ l2_penalty*(w[0]^2 + w[1]^2 + ... + w[k]^2).\n",
    "```\n",
    "\n",
    "Since the derivative of a sum is the sum of the derivatives, we can take the derivative of the first part (the RSS) as we did in the notebook for the unregularized case in Week 2 and add the derivative of the regularization part.  As we saw, the derivative of the RSS with respect to `w[i]` can be written as: \n",
    "```\n",
    "2*SUM[ error*[feature_i] ].\n",
    "```\n",
    "The derivative of the regularization term with respect to `w[i]` is:\n",
    "```\n",
    "2*l2_penalty*w[i].\n",
    "```\n",
    "Summing both, we get\n",
    "```\n",
    "2*SUM[ error*[feature_i] ] + 2*l2_penalty*w[i].\n",
    "```\n",
    "That is, the derivative for the weight for feature i is the sum (over data points) of 2 times the product of the error and the feature itself, plus `2*l2_penalty*w[i]`. \n",
    "\n",
    "**We will not regularize the constant.**  Thus, in the case of the constant, the derivative is just twice the sum of the errors (without the `2*l2_penalty*w[0]` term).\n",
    "\n",
    "Recall that twice the sum of the product of two vectors is just twice the dot product of the two vectors. Therefore the derivative for the weight for feature_i is just two times the dot product between the values of feature_i and the current errors, plus `2*l2_penalty*w[i]`.\n",
    "\n",
    "With this in mind complete the following derivative function which computes the derivative of the weight given the value of the feature (over all data points) and the errors (over all data points).  To decide when to we are dealing with the constant (so we don't regularize it) we added the extra parameter to the call `feature_is_constant` which you should set to `True` when computing the derivative of the constant and `False` otherwise."
   ]
  },
  {
   "cell_type": "code",
   "execution_count": 25,
   "metadata": {
    "collapsed": true
   },
   "outputs": [],
   "source": [
    "def feature_derivative_ridge(errors, feature, weight, l2_penalty, feature_is_constant):\n",
    "    # If feature_is_constant is True, derivative is twice the dot product of errors and feature\n",
    "    if feature_is_constant:\n",
    "        derivative = 2 * np.dot(errors, feature)\n",
    "    # Otherwise, derivative is twice the dot product plus 2*l2_penalty*weight\n",
    "    else:\n",
    "        derivative = 2 * np.dot(errors, feature) + 2 * l2_penalty * weight\n",
    "    \n",
    "    return derivative"
   ]
  },
  {
   "cell_type": "markdown",
   "metadata": {},
   "source": [
    "To test your feature derivartive run the following:"
   ]
  },
  {
   "cell_type": "code",
   "execution_count": 26,
   "metadata": {
    "collapsed": false
   },
   "outputs": [
    {
     "name": "stdout",
     "output_type": "stream",
     "text": [
      "[ 11801.  25701.   7701. ...,  10201.  16001.  10201.]\n",
      "-5.65541667824e+13\n",
      "-5.65541667824e+13\n",
      "\n",
      "-22446749336.0\n",
      "-22446749336.0\n"
     ]
    }
   ],
   "source": [
    "(example_features, example_output) = get_numpy_data(sales, ['sqft_living'], 'price') \n",
    "my_weights = np.array([1., 10.])\n",
    "test_predictions = predict_output(example_features, my_weights) \n",
    "errors = test_predictions - example_output # prediction errors\n",
    "\n",
    "# next two lines should print the same values\n",
    "print feature_derivative_ridge(errors, example_features[:,1], my_weights[1], 1, False)\n",
    "print np.sum(errors*example_features[:,1])*2+20.\n",
    "print ''\n",
    "\n",
    "# next two lines should print the same values\n",
    "print feature_derivative_ridge(errors, example_features[:,0], my_weights[0], 1, True)\n",
    "print np.sum(errors)*2."
   ]
  },
  {
   "cell_type": "markdown",
   "metadata": {},
   "source": [
    "# Gradient Descent"
   ]
  },
  {
   "cell_type": "markdown",
   "metadata": {},
   "source": [
    "Now we will write a function that performs a gradient descent. The basic premise is simple. Given a starting point we update the current weights by moving in the negative gradient direction. Recall that the gradient is the direction of *increase* and therefore the negative gradient is the direction of *decrease* and we're trying to *minimize* a cost function. \n",
    "\n",
    "The amount by which we move in the negative gradient *direction*  is called the 'step size'. We stop when we are 'sufficiently close' to the optimum. Unlike in Week 2, this time we will set a **maximum number of iterations** and take gradient steps until we reach this maximum number. If no maximum number is supplied, the maximum should be set 100 by default. (Use default parameter values in Python.)\n",
    "\n",
    "With this in mind, complete the following gradient descent function below using your derivative function above. For each step in the gradient descent, we update the weight for each feature before computing our stopping criteria."
   ]
  },
  {
   "cell_type": "code",
   "execution_count": 51,
   "metadata": {
    "collapsed": false
   },
   "outputs": [],
   "source": [
    "def ridge_regression_gradient_descent(feature_matrix, output, initial_weights, step_size, l2_penalty, max_iterations=100):\n",
    "    weights = np.array(initial_weights) # make sure it's a numpy array\n",
    "    k = 0\n",
    "    #while not reached maximum number of iterations:\n",
    "    while k < max_iterations:\n",
    "        # compute the predictions based on feature_matrix and weights using your predict_output() function\n",
    "        pred = predict_outcome(feature_matrix, weights)\n",
    "        # compute the errors as predictions - output\n",
    "        residuals = pred-output\n",
    "        for i in xrange(len(weights)): # loop over each weight\n",
    "            # Recall that feature_matrix[:,i] is the feature column associated with weights[i]\n",
    "            # compute the derivative for weight[i].\n",
    "            #(Remember: when i=0, you are computing the derivative of the constant!)\n",
    "            partial = feature_derivative_ridge(residuals, feature_matrix[:, i], weights[i], l2_penalty, i == 0)\n",
    "            #print partial\n",
    "            # subtract the step size times the derivative from the current weight\n",
    "            weights[i] -= step_size*partial\n",
    "        k = k + 1\n",
    "    return weights"
   ]
  },
  {
   "cell_type": "markdown",
   "metadata": {},
   "source": [
    "# Visualizing effect of L2 penalty"
   ]
  },
  {
   "cell_type": "markdown",
   "metadata": {},
   "source": [
    "The L2 penalty gets its name because it causes weights to have small L2 norms than otherwise. Let's see how large weights get penalized. Let us consider a simple model with 1 feature:"
   ]
  },
  {
   "cell_type": "code",
   "execution_count": 95,
   "metadata": {
    "collapsed": true
   },
   "outputs": [],
   "source": [
    "simple_features = ['sqft_living']\n",
    "my_output = 'price'"
   ]
  },
  {
   "cell_type": "markdown",
   "metadata": {},
   "source": [
    "Let us split the dataset into training set and test set. Make sure to use `seed=0`:"
   ]
  },
  {
   "cell_type": "code",
   "execution_count": 96,
   "metadata": {
    "collapsed": true
   },
   "outputs": [],
   "source": [
    "train_data,test_data = sales.random_split(.8,seed=0)"
   ]
  },
  {
   "cell_type": "markdown",
   "metadata": {},
   "source": [
    "In this part, we will only use `'sqft_living'` to predict `'price'`. Use the `get_numpy_data` function to get a Numpy versions of your data with only this feature, for both the `train_data` and the `test_data`. "
   ]
  },
  {
   "cell_type": "code",
   "execution_count": 97,
   "metadata": {
    "collapsed": true
   },
   "outputs": [],
   "source": [
    "(simple_feature_matrix, output) = get_numpy_data(train_data, simple_features, my_output)\n",
    "(simple_test_feature_matrix, test_output) = get_numpy_data(test_data, simple_features, my_output)"
   ]
  },
  {
   "cell_type": "markdown",
   "metadata": {},
   "source": [
    "Let's set the parameters for our optimization:"
   ]
  },
  {
   "cell_type": "code",
   "execution_count": 98,
   "metadata": {
    "collapsed": true
   },
   "outputs": [],
   "source": [
    "initial_weights = np.array([0., 0.])\n",
    "step_size = 1e-12\n",
    "max_iterations=1000"
   ]
  },
  {
   "cell_type": "markdown",
   "metadata": {},
   "source": [
    "First, let's consider no regularization.  Set the `l2_penalty` to `0.0` and run your ridge regression algorithm to learn the weights of your model.  Call your weights:\n",
    "\n",
    "`simple_weights_0_penalty`\n",
    "\n",
    "we'll use them later."
   ]
  },
  {
   "cell_type": "code",
   "execution_count": 99,
   "metadata": {
    "collapsed": false
   },
   "outputs": [
    {
     "name": "stdout",
     "output_type": "stream",
     "text": [
      "[ 0.  0.  0. ...,  0.  0.  0.]\n",
      "[  55852.38491384  121644.57895112   36446.05429853 ...,   72418.7647074\n",
      "   75732.04066611   48279.1827225 ]\n",
      "[ 101653.8575441   221398.61568968   66333.46125655 ...,  131805.41535054\n",
      "  137835.72691183   87870.28826115]\n",
      "[ 139213.1291505   303201.42130152   90842.48182539 ...,  180505.14515975\n",
      "  188763.5483616   120336.77897485]\n",
      "[ 170013.42447687  370283.40840481  110940.98317438 ...,  220441.11827167\n",
      "  230526.65703063  146960.76445638]\n",
      "[ 195271.05465565  425293.66092722  127422.66000001 ...,  253190.41594705\n",
      "  264774.28820533  168793.63235101]\n",
      "[ 215983.44962938  470404.54707224  140938.37772178 ...,  280046.31589197\n",
      "  292858.88914449  186697.56790934]\n",
      "[ 232968.54690081  507397.50666603  152021.87531539 ...,  302069.36410788\n",
      "  315889.52754929  201379.60189187]\n",
      "[ 246897.0920831   537733.40064781  161110.84279422 ...,  320129.25611018\n",
      "  334775.6889156   213419.531385  ]\n",
      "[ 258319.12680666  562610.2008225   168564.20569407 ...,  334939.18141496\n",
      "  350263.19233662  223292.81612857]\n",
      "[ 267685.70999643  583010.29805753  174676.29912949 ...,  347083.98756577\n",
      "  362963.64307964  231389.35453616]\n",
      "[ 275366.73029816  599739.29713633  179688.49115884 ...,  357043.27590489\n",
      "  373378.58502624  238028.88087794]\n",
      "[ 281665.51307063  613457.83028645  183798.7144674  ...,  365210.34114655\n",
      "  381919.30676174  243473.59166449]\n",
      "[ 286830.79877762  624707.64570631  187169.28277708 ...,  371907.70268053\n",
      "  388923.08346111  247938.49985058]\n",
      "[ 291066.56580909  633933.00133289  189933.30065459 ...,  377399.84094098\n",
      "  394666.49596736  251599.9257488 ]\n",
      "[ 294540.08563723  641498.2086953   192199.91984313 ...,  381903.64180293\n",
      "  399376.35303607  254602.45996148]\n",
      "[ 297388.52840744  647702.01966537  194058.64969108 ...,  385596.961458\n",
      "  403238.64806811  257064.67329862]\n",
      "[ 299724.37982063  652789.42424144  195582.89189794 ...,  388625.64999853\n",
      "  406405.90403411  259083.79916787]\n",
      "[ 301639.88322076  656961.32526281  196832.83916519 ...,  391109.31107307\n",
      "  409003.19664354  260739.57334542]\n",
      "[ 303210.68230692  660382.47211152  197857.85222067 ...,  393146.02506347\n",
      "  411133.09361478  262097.38276106]\n",
      "[ 304498.80832128  663187.96670541  198698.40908568 ...,  394816.22230289\n",
      "  412879.70509922  263210.84764397]\n",
      "[ 305555.12967791  665488.59870553  199387.70356185 ...,  396185.85928918\n",
      "  414312.00521144  264123.93899847]\n",
      "[ 306421.36076877  667375.22062679  199952.95606244 ...,  397309.02332294\n",
      "  415486.55583378  264872.71502971]\n",
      "[ 307131.70927514  668922.33562573  200416.48855302 ...,  398230.06842816\n",
      "  416449.74025877  265486.74509089]\n",
      "[ 307714.22703727  670191.03964825  200796.60605129 ...,  398985.36690334\n",
      "  417239.59487656  265990.27738421]\n",
      "[ 308191.91782835  671231.43412334  201108.31949673 ...,  399604.74567241\n",
      "  417887.31124122  266403.19652821]\n",
      "[ 308583.64577907  672084.60448059  201363.93853617 ...,  400112.66415715\n",
      "  418418.46783276  266741.80880623]\n",
      "[ 308904.88032671  672784.24262383  201573.55763475 ...,  400529.1801857\n",
      "  418854.04015749  267019.48610546]\n",
      "[ 309168.307107    673357.97743256  201745.45470881 ...,  400870.74208106\n",
      "  419211.22907587  267247.193976  ]\n",
      "[ 309384.32891291  673828.46583305  201886.4180228  ...,  401150.83820935\n",
      "  419504.14006864  267433.92466311]\n",
      "[ 309561.4765035   674214.28752593  202002.01425947 ...,  401380.52963864\n",
      "  419744.34026567  267587.05221314]\n",
      "[ 309706.74548562  674530.678703    202096.80834956 ...,  401568.88694323\n",
      "  419941.31523476  267712.62367642]\n",
      "[ 309825.87257217  674790.13372817  202174.54374199 ...,  401723.34840282\n",
      "  420102.84356895  267815.59790673]\n",
      "[ 309923.56212625  675002.89854292  202238.29023357 ...,  401850.01374196\n",
      "  420235.3040651   267900.04138765]\n",
      "[ 310003.67193762  675177.37528099  202290.56519604 ...,  401953.88500969\n",
      "  420343.9276241   267969.28881895]\n",
      "[ 310069.3655677   675320.45407071  202333.43298767 ...,  402039.06411162\n",
      "  420433.00382041  268026.07480476]\n",
      "[ 310123.23727946  675437.78512782  202368.58647527 ...,  402108.91479523\n",
      "  420506.05029839  268072.64184368]\n",
      "[ 310167.41448544  675534.00188383  202397.41388591 ...,  402166.19548503\n",
      "  420565.95168495  268110.82888562]\n",
      "[ 310203.64175978  675612.90396143  202421.05362836 ...,  402213.16821343\n",
      "  420615.07350416  268142.1439524 ]\n",
      "[ 310233.34973191  675677.60722242  202440.4392491  ...,  402251.68794895\n",
      "  420655.35559235  268167.82368984]\n",
      "[ 310257.71158244  675730.66681392  202456.33629833 ...,  402283.27584936\n",
      "  420688.38870274  268188.88220327]\n",
      "[ 310277.68937231  675774.1780717   202469.3725617  ...,  402309.17933259\n",
      "  420715.47732465  268206.15110476]\n",
      "[ 310294.07203489  675809.85926553  202480.06285175 ...,  402330.42133757\n",
      "  420737.69119811  268220.31235367]\n",
      "[ 310307.50653107  675839.11945406  202488.82933795 ...,  402347.84072031\n",
      "  420755.90755816  268231.92518741]\n",
      "[ 310318.52339793  675863.11412887  202496.0182183  ...,  402362.12538054\n",
      "  420770.84577706  268241.44820588]\n",
      "[ 310327.5576998   675882.79084514  202501.91339075 ...,  402373.83942705\n",
      "  420783.0957725   268249.25748164]\n",
      "[ 310334.96620904  675898.92664081  202506.74766442 ...,  402383.44545445\n",
      "  420793.14130354  268255.66141114]\n",
      "[ 310341.04149506  675912.15872202  202510.71195329 ...,  402391.3228112\n",
      "  420801.37907443  268260.91289339]\n",
      "[ 310346.02347794  675923.00962651  202513.96281541 ...,  402397.7825801\n",
      "  420808.13440053  268265.21931695]\n",
      "[ 310350.10890298  675931.90785878  202516.62863544 ...,  402403.07986307\n",
      "  420813.67405509  268268.75074979]\n",
      "[ 310353.45911019  675939.20481184  202518.8146946  ...,  402407.42385521\n",
      "  420818.21680422  268271.64665533]\n",
      "[ 310356.20640565  675945.18864378  202520.60732822 ...,  402410.9861059\n",
      "  420821.94204595  268274.02139983]\n",
      "[ 310358.4592863   675950.09565721  202522.07733517 ...,  402413.90729337\n",
      "  420824.99689478  268275.96876879]\n",
      "[ 310360.30672453  675954.11963096  202523.28277371 ...,  402416.3027801\n",
      "  420827.50199122  268277.56567055]\n",
      "[ 310361.82168169  675957.41947236  202524.27125423 ...,  402418.26716855\n",
      "  420829.55626592  268278.87517342]\n",
      "[ 310363.06398941  675960.12549261  202525.0818194  ...,  402419.87803698\n",
      "  420831.24084649  268279.94899623]\n",
      "[ 310364.08271228  675962.34455274  202525.74648596 ...,  402421.19900305\n",
      "  420832.6222612   268280.82955079]\n",
      "[ 310364.91808552  675964.16428365  202526.29150909 ...,  402422.28223612\n",
      "  420833.75506625  268281.55161667]\n",
      "[ 310365.60310378  675965.65654658  202526.73841921 ...,  402423.17051743\n",
      "  420834.68400016  268282.14371468]\n",
      "[ 310366.16482419  675966.88027102  202527.10487224 ...,  402423.89892951\n",
      "  420835.44575057  268282.62923319]\n",
      "[ 310366.6254348   675967.8837818   202527.40534684 ...,  402424.4962416\n",
      "  420836.07040296  268283.0273517 ]\n",
      "[ 310367.00313083  675968.70670745  202527.65171615 ...,  402424.98604581\n",
      "  420836.5826288   268283.35379827]\n",
      "[ 310367.31283316  675969.38154516  202527.85371667 ...,  402425.3876887\n",
      "  420837.00265981  268283.62147063]\n",
      "[ 310367.56677759  675969.93494407  202528.0193328  ...,  402425.71703534\n",
      "  420837.34708689  268283.84094548]\n",
      "[ 310367.77499803  675970.38875771  202528.15511209 ...,  402425.98709579\n",
      "  420837.62951535  268284.0208962 ]\n",
      "[ 310367.94572275  675970.76090693  202528.26642381 ...,  402426.20853891\n",
      "  420837.86110214  268284.16843536]\n",
      "[ 310368.08569927  675971.06608765  202528.35767104 ...,  402426.39011361\n",
      "  420838.05099648  268284.28939557]\n",
      "[ 310368.20046089  675971.31635118  202528.43246447 ...,  402426.53899442\n",
      "  420838.20670112  268284.38855985]\n",
      "[ 310368.29454516  675971.52158014  202528.49376505 ...,  402426.66106476\n",
      "  420838.33436868  268284.46985048]\n",
      "[ 310368.37167306  675971.68987873  202528.54400088 ...,  402426.76114931\n",
      "  420838.43904456  268284.53648392]\n",
      "[ 310368.43489598  675971.82789274  202528.58516312 ...,  402426.84320452\n",
      "  420838.52486622  268284.59109779]\n",
      "[ 310368.48671619  675971.94107203  202528.61888461 ...,  402426.91047485\n",
      "  420838.59522659  268284.63585509]\n",
      "[ 310368.52918566  675972.03388574  202528.64650434 ...,  402426.96562093\n",
      "  420838.65290799  268284.67252954]\n",
      "[ 310368.56398711  675972.10999875  202528.66912036 ...,  402427.01082457\n",
      "  420838.70019206  268284.7025757 ]\n",
      "[ 310368.59250043  675972.17241644  202528.68763311 ...,  402427.04787496\n",
      "  420838.73894987  268284.72718635]\n",
      "[ 310368.6158572   675972.22360334  202528.702781   ...,  402427.07823932\n",
      "  420838.77071574  268284.74733966]\n",
      "[ 310368.63498537  675972.26558049  202528.71516954 ...,  402427.10312083\n",
      "  420838.79674792  268284.76383773]\n",
      "[ 310368.65064589  675972.30000524  202528.7252953  ...,  402427.12350616\n",
      "  420838.81807821  268284.77733834]\n",
      "[ 310368.6634628   675972.32823667  202528.73356547 ...,  402427.14020442\n",
      "  420838.83555274  268284.78838091]\n",
      "[ 310368.6739478   675972.3513893   202528.74031397 ...,  402427.15387911\n",
      "  420838.84986537  268284.79740777]\n",
      "[ 310368.68252054  675972.37037709  202528.74581465 ...,  402427.16507435\n",
      "  420838.86158511  268284.80478165]\n",
      "[ 310368.68952514  675972.38594952  202528.75029204 ...,  402427.17423631\n",
      "  420838.87117855  268284.81080003]\n",
      "[ 310368.69524379  675972.3987212   202528.7539303  ...,  402427.1817309\n",
      "  420838.87902833  268284.81570682]\n",
      "[ 310368.6999079   675972.40919614  202528.75688044 ...,  402427.18785818\n",
      "  420838.88544823  268284.81970206]\n",
      "[ 310368.70370725  675972.41778765  202528.75926627 ...,  402427.19286419\n",
      "  420838.89069557  268284.8229498 ]\n",
      "[ 310368.70679745  675972.42483466  202528.76118936 ...,  402427.19695071\n",
      "  420838.89498136  268284.82558454]\n",
      "[ 310368.70930613  675972.43061511  202528.76273297 ...,  402427.20028321\n",
      "  420838.89847863  268284.8277166 ]\n",
      "[ 310368.71133791  675972.43535693  202528.7639654  ...,  402427.20299738\n",
      "  420838.90132927  268284.82943644]\n",
      "[ 310368.71297864  675972.43924703  202528.76494264 ...,  402427.20520449\n",
      "  420838.90364966  268284.83081825]\n",
      "[ 310368.71429867  675972.44243867  202528.76571061 ...,  402427.20699579\n",
      "  420838.90553521  268284.83192284]\n",
      "[ 310368.71535572  675972.44505754  202528.76630698 ...,  402427.20844611\n",
      "  420838.90706418  268284.83280011]\n",
      "[ 310368.71619711  675972.44720672  202528.76676262 ...,  402427.2096168\n",
      "  420838.90830074  268284.83349097]\n",
      "[ 310368.71686166  675972.44897074  202528.76710286 ...,  402427.21055819\n",
      "  420838.90929749  268284.83402896]\n",
      "[ 310368.71738118  675972.45041889  202528.76734847 ...,  402427.21131154\n",
      "  420838.91009761  268284.83444159]\n",
      "[ 310368.71778178  675972.45160804  202528.76751648 ...,  402427.21191069\n",
      "  420838.91073647  268284.83475142]\n",
      "[ 310368.71808485  675972.45258477  202528.76762084 ...,  402427.21238339\n",
      "  420838.9112431   268284.83497694]\n",
      "[ 310368.71830795  675972.45338733  202528.76767302 ...,  402427.21275239\n",
      "  420838.91164128  268284.83513334]\n",
      "[ 310368.71846546  675972.45404704  202528.7676824  ...,  402427.21303636\n",
      "  420838.91195054  268284.83523305]\n",
      "[ 310368.7185692   675972.45458963  202528.76765669 ...,  402427.2132506\n",
      "  420838.91218688  268284.83528627]\n",
      "[ 310368.71862883  675972.45503616  202528.7676022  ...,  402427.21340765\n",
      "  420838.91236342  268284.83530136]\n",
      "[  7.88199720e-02   2.63024271e+02]\n"
     ]
    }
   ],
   "source": [
    "l2_penalty = 0.0\n",
    "simple_weights_0_penalty = ridge_regression_gradient_descent(simple_feature_matrix, output, initial_weights, step_size, l2_penalty, max_iterations=100)\n",
    "print simple_weights_0_penalty"
   ]
  },
  {
   "cell_type": "markdown",
   "metadata": {},
   "source": [
    "Next, let's consider high regularization.  Set the `l2_penalty` to `1e11` and run your ridge regression algorithm to learn the weights of your model.  Call your weights:\n",
    "\n",
    "`simple_weights_high_penalty`\n",
    "\n",
    "we'll use them later."
   ]
  },
  {
   "cell_type": "code",
   "execution_count": 53,
   "metadata": {
    "collapsed": false
   },
   "outputs": [
    {
     "name": "stdout",
     "output_type": "stream",
     "text": [
      "[ 0.  0.  0. ...,  0.  0.  0.]\n",
      "[  55852.38491384  121644.57895112   36446.05429853 ...,   72418.7647074\n",
      "   75732.04066611   48279.1827225 ]\n",
      "[  90483.38431187  197069.70365      59044.25414739 ...,  117321.6661596\n",
      "  122689.32252915   78214.45546719]\n",
      "[ 111956.16800904  243836.68309376   73056.15996247 ...,  145163.49195123\n",
      "  151804.95673967   96775.67706404]\n",
      "[ 125270.2647863   272834.3205418    81744.17639798 ...,  162426.68170315\n",
      "  169857.96508652  108284.47419573]\n",
      "[ 133525.60787153  290814.16489299   87131.14141196 ...,  173130.64021506\n",
      "  181051.64668377  115420.45022877]\n",
      "[ 138644.29561408  301962.48083112   90471.30572992 ...,  179767.57966154\n",
      "  187992.23647103  119845.08004953]\n",
      "[ 141818.11564066  308874.94118108   92542.36134456 ...,  183882.7839422\n",
      "  192295.71760251  122588.55298852]\n",
      "[ 143786.03000675  313160.98010983   93826.51235045 ...,  186434.39873774\n",
      "  194964.07248394  124289.63287259]\n",
      "[ 145006.22849994  315818.51935574   94622.74702449 ...,  188016.51756435\n",
      "  196618.57537723  125344.3820705 ]\n",
      "[ 145762.80944415  317466.31538392   95116.45157702 ...,  188997.50518438\n",
      "  197644.44433243  125998.37710576]\n",
      "[ 146231.92660765  318488.02509689   95422.57381587 ...,  189605.76435674\n",
      "  198280.53190656  126403.88649379]\n",
      "[ 146522.80326797  319121.53306983   95612.38656383 ...,  189982.91508858\n",
      "  198674.9374527   126655.32357855]\n",
      "[ 146703.16278105  319514.33846343   95730.08218409 ...,  190216.7681687\n",
      "  198919.48924623  126811.22888956]\n",
      "[ 146814.99668063  319757.89740674   95803.06193408 ...,  190361.77024476\n",
      "  199071.12495758  126907.90019417]\n",
      "[ 146884.34161063  319908.91682268   95848.31582865 ...,  190451.6806928\n",
      "  199165.14850923  126967.84374449]\n",
      "[ 146927.34146404  320002.55755989   95876.37844296 ...,  190507.43184789\n",
      "  199223.44992466  127005.01443142]\n",
      "[ 146954.00618231  320060.62092959   95893.78168851 ...,  190542.00270141\n",
      "  199259.60200523  127028.06491644]\n",
      "[ 146970.54238039  320096.62472757   95904.57564489 ...,  190563.44081313\n",
      "  199282.02049968  127042.36023971]\n",
      "[ 146980.79843934  320118.95059662   95911.27154403 ...,  190576.7360329\n",
      "  199295.92355161  127051.226968  ]\n",
      "[ 146987.16052892  320132.79553313   95915.42646294 ...,  190584.98229257\n",
      "  199304.5466453   127056.72772269]\n",
      "[ 146991.10818195  320141.38190911   95918.00585955 ...,  190590.09796937\n",
      "  199309.89592685  127060.14142199]\n",
      "[ 146993.55877547  320146.70774053   95919.60836132 ...,  190593.27254365\n",
      "  199313.21529729  127062.26105288]\n",
      "[ 146995.08112461  320150.01188731   95920.60514424 ...,  190595.24354687\n",
      "  199315.27603132  127063.578303  ]\n",
      "[ 146996.02792038  320152.06249849   95921.22635417 ...,  190596.46828177\n",
      "  199316.55635405  127064.39804088]\n",
      "[ 146996.61784711  320153.33586108   95921.61469192 ...,  190597.23029667\n",
      "  199317.35278658  127064.90929874]\n",
      "[ 146996.98649896  320154.1272945    95921.85863841 ...,  190597.70540431\n",
      "  199317.84918538  127065.22928509]\n",
      "[ 146997.21795041  320154.61991012   95922.01305581 ...,  190598.00261652\n",
      "  199318.15954974  127065.43067447]\n",
      "[ 146997.36433141  320154.92724522   95922.11196115 ...,  190598.18952554\n",
      "  199318.35456436  127065.55852838]\n",
      "[ 146997.45796491  320155.11969806   95922.1764465  ...,  190598.3080416\n",
      "  199318.47805694  127065.64078699]\n",
      "[ 146997.51889258  320155.24091871   95922.21958991 ...,  190598.38415096\n",
      "  199318.55720263  127065.69477446]\n",
      "[ 146997.55954116  320155.31797219   95922.24950035 ...,  190598.43396624\n",
      "  199318.60885125  127065.73123255]\n",
      "[ 146997.58761578  320155.36764004   95922.27120575 ...,  190598.46747801\n",
      "  199318.64345045  127065.75682163]\n",
      "[ 146997.607894    320155.40032756   95922.28782366 ...,  190598.49088087\n",
      "  199318.66747824  127065.77567143]\n",
      "[ 146997.62333808  320155.42248651   95922.3012871  ...,  190598.50801574\n",
      "  199318.68495127  127065.79034258]\n",
      "[ 146997.63578478  320155.43811728   95922.31279462 ...,  190598.52126419\n",
      "  199318.69836007  127065.80242277]\n",
      "[ 146997.64637298  320155.44970027   95922.32308939 ...,  190598.53210287\n",
      "  199318.70924885  127065.81289645]\n",
      "[ 146997.65580881  320155.45877346   95922.33263219 ...,  190598.54144739\n",
      "  199318.71857511  127065.82237403]\n",
      "[ 146997.66453013  320155.46629047   95922.34170874 ...,  190598.54986547\n",
      "  199318.72693254  127065.83123398]\n",
      "[ 146997.67280842  320155.47284256   95922.35049619 ...,  190598.5577091\n",
      "  199318.73468924  127065.83971096]\n",
      "[ 146997.68081201  320155.47879638   95922.35910439 ...,  190598.56519656\n",
      "  199318.74207347  127065.8479505 ]\n",
      "[ 146997.68864527  320155.48437922   95922.36760144 ...,  190598.57246317\n",
      "  199318.74922675  127065.8560428 ]\n",
      "[ 146997.69637292  320155.48973205   95922.37602958 ...,  190598.57959285\n",
      "  199318.75623683  127065.86404381]\n",
      "[ 146997.70403509  320155.49494226   95922.38441499 ...,  190598.58663762\n",
      "  199318.76315812  127065.87198822]\n",
      "[ 146997.71165666  320155.50006404   95922.3927739  ...,  190598.59362974\n",
      "  199318.77002436  127065.87989753]\n",
      "[ 146997.71925305  320155.50513099   95922.40111639 ...,  190598.60058922\n",
      "  199318.77685646  127065.88778508]\n",
      "[ 146997.72683383  320155.51016395   95922.40944869 ...,  190598.60752846\n",
      "  199318.78366739  127065.89565914]\n",
      "[ 146997.73440493  320155.51517582   95922.41777467 ...,  190598.61445515\n",
      "  199318.7904652   127065.90352483]\n",
      "[ 146997.74197003  320155.52017462   95922.42609673 ...,  190598.62137406\n",
      "  199318.79725487  127065.91138533]\n",
      "[ 146997.74953141  320155.52516532   95922.43441637 ...,  190598.62828815\n",
      "  199318.8040395   127065.91924262]\n",
      "[ 146997.75709048  320155.53015099   95922.44273451 ...,  190598.63519924\n",
      "  199318.81082099  127065.92709791]\n",
      "[ 146997.76464812  320155.53513354   95922.4510517  ...,  190598.64210848\n",
      "  199318.81760055  127065.93495196]\n",
      "[ 146997.77220488  320155.54011417   95922.45936832 ...,  190598.64901657\n",
      "  199318.82437891  127065.94280525]\n",
      "[ 146997.77976108  320155.54509359   95922.46768459 ...,  190598.65592394\n",
      "  199318.83115652  127065.95065806]\n",
      "[ 146997.78731694  320155.55007228   95922.47600062 ...,  190598.66283088\n",
      "  199318.83793366  127065.95851058]\n",
      "[ 146997.7948726   320155.5550505    95922.48431652 ...,  190598.66973753\n",
      "  199318.84471052  127065.96636291]\n",
      "[ 146997.80242812  320155.56002843   95922.49263234 ...,  190598.67664402\n",
      "  199318.8514872   127065.97421513]\n",
      "[ 146997.80998355  320155.56500619   95922.5009481  ...,  190598.68355041\n",
      "  199318.85826378  127065.98206728]\n",
      "[ 146997.81753894  320155.56998384   95922.50926383 ...,  190598.69045672\n",
      "  199318.86504028  127065.98991938]\n",
      "[ 146997.8250943   320155.57496142   95922.51757953 ...,  190598.697363\n",
      "  199318.87181674  127065.99777146]\n",
      "[ 146997.83264963  320155.57993896   95922.52589523 ...,  190598.70426925\n",
      "  199318.87859317  127066.00562352]\n",
      "[ 146997.84020496  320155.58491648   95922.53421091 ...,  190598.71117549\n",
      "  199318.88536959  127066.01347558]\n",
      "[ 146997.84776028  320155.58989397   95922.5425266  ...,  190598.71808171\n",
      "  199318.892146    127066.02132762]\n",
      "[ 146997.85531559  320155.59487146   95922.55084227 ...,  190598.72498793\n",
      "  199318.8989224   127066.02917966]\n",
      "[ 146997.8628709   320155.59984894   95922.55915795 ...,  190598.73189415\n",
      "  199318.9056988   127066.0370317 ]\n",
      "[ 146997.87042621  320155.60482641   95922.56747363 ...,  190598.73880036\n",
      "  199318.91247519  127066.04488374]\n",
      "[ 146997.87798151  320155.60980389   95922.5757893  ...,  190598.74570657\n",
      "  199318.91925158  127066.05273577]\n",
      "[ 146997.88553682  320155.61478136   95922.58410497 ...,  190598.75261278\n",
      "  199318.92602797  127066.0605878 ]\n",
      "[ 146997.89309212  320155.61975883   95922.59242065 ...,  190598.75951899\n",
      "  199318.93280436  127066.06843984]\n",
      "[ 146997.90064743  320155.6247363    95922.60073632 ...,  190598.7664252\n",
      "  199318.93958076  127066.07629187]\n",
      "[ 146997.90820273  320155.62971377   95922.60905199 ...,  190598.77333141\n",
      "  199318.94635715  127066.0841439 ]\n",
      "[ 146997.91575803  320155.63469124   95922.61736766 ...,  190598.78023762\n",
      "  199318.95313353  127066.09199594]\n",
      "[ 146997.92331334  320155.63966871   95922.62568334 ...,  190598.78714383\n",
      "  199318.95990992  127066.09984797]\n",
      "[ 146997.93086864  320155.64464618   95922.63399901 ...,  190598.79405003\n",
      "  199318.96668631  127066.1077    ]\n",
      "[ 146997.93842394  320155.64962365   95922.64231468 ...,  190598.80095624\n",
      "  199318.9734627   127066.11555204]\n",
      "[ 146997.94597925  320155.65460112   95922.65063035 ...,  190598.80786245\n",
      "  199318.98023909  127066.12340407]\n",
      "[ 146997.95353455  320155.65957858   95922.65894602 ...,  190598.81476866\n",
      "  199318.98701548  127066.1312561 ]\n",
      "[ 146997.96108985  320155.66455605   95922.66726169 ...,  190598.82167487\n",
      "  199318.99379187  127066.13910813]\n",
      "[ 146997.96864515  320155.66953352   95922.67557736 ...,  190598.82858107\n",
      "  199319.00056826  127066.14696016]\n",
      "[ 146997.97620046  320155.67451099   95922.68389303 ...,  190598.83548728\n",
      "  199319.00734465  127066.15481219]\n",
      "[ 146997.98375576  320155.67948846   95922.6922087  ...,  190598.84239349\n",
      "  199319.01412103  127066.16266422]\n",
      "[ 146997.99131106  320155.68446593   95922.70052437 ...,  190598.8492997\n",
      "  199319.02089742  127066.17051626]\n",
      "[ 146997.99886636  320155.68944339   95922.70884004 ...,  190598.8562059\n",
      "  199319.02767381  127066.17836829]\n",
      "[ 146998.00642166  320155.69442086   95922.71715571 ...,  190598.86311211\n",
      "  199319.0344502   127066.18622032]\n",
      "[ 146998.01397697  320155.69939833   95922.72547138 ...,  190598.87001832\n",
      "  199319.04122659  127066.19407235]\n",
      "[ 146998.02153227  320155.7043758    95922.73378705 ...,  190598.87692452\n",
      "  199319.04800297  127066.20192438]\n",
      "[ 146998.02908757  320155.70935326   95922.74210272 ...,  190598.88383073\n",
      "  199319.05477936  127066.20977641]\n",
      "[ 146998.03664287  320155.71433073   95922.75041839 ...,  190598.89073693\n",
      "  199319.06155575  127066.21762844]\n",
      "[ 146998.04419817  320155.7193082    95922.75873406 ...,  190598.89764314\n",
      "  199319.06833213  127066.22548047]\n",
      "[ 146998.05175347  320155.72428567   95922.76704973 ...,  190598.90454935\n",
      "  199319.07510852  127066.2333325 ]\n",
      "[ 146998.05930877  320155.72926313   95922.7753654  ...,  190598.91145555\n",
      "  199319.08188491  127066.24118453]\n",
      "[ 146998.06686407  320155.7342406    95922.78368107 ...,  190598.91836176\n",
      "  199319.0886613   127066.24903656]\n",
      "[ 146998.07441937  320155.73921807   95922.79199673 ...,  190598.92526796\n",
      "  199319.09543768  127066.25688859]\n",
      "[ 146998.08197467  320155.74419553   95922.8003124  ...,  190598.93217417\n",
      "  199319.10221407  127066.26474062]\n",
      "[ 146998.08952997  320155.749173     95922.80862807 ...,  190598.93908037\n",
      "  199319.10899045  127066.27259264]\n",
      "[ 146998.09708527  320155.75415047   95922.81694374 ...,  190598.94598658\n",
      "  199319.11576684  127066.28044467]\n",
      "[ 146998.10464057  320155.75912793   95922.82525941 ...,  190598.95289278\n",
      "  199319.12254323  127066.2882967 ]\n",
      "[ 146998.11219587  320155.7641054    95922.83357507 ...,  190598.95979899\n",
      "  199319.12931961  127066.29614873]\n",
      "[ 146998.11975117  320155.76908286   95922.84189074 ...,  190598.96670519\n",
      "  199319.136096    127066.30400076]\n",
      "[ 146998.12730647  320155.77406033   95922.85020641 ...,  190598.9736114\n",
      "  199319.14287238  127066.31185279]\n"
     ]
    }
   ],
   "source": [
    "l2_penalty = 1e11\n",
    "simple_weights_high_penalty = ridge_regression_gradient_descent(simple_feature_matrix, output, initial_weights, step_size, l2_penalty, max_iterations=100)"
   ]
  },
  {
   "cell_type": "code",
   "execution_count": 67,
   "metadata": {
    "collapsed": false
   },
   "outputs": [
    {
     "data": {
      "text/plain": [
       "array([   0.99807924,  124.57384473])"
      ]
     },
     "execution_count": 67,
     "metadata": {},
     "output_type": "execute_result"
    }
   ],
   "source": [
    "simple_weights_high_penalty"
   ]
  },
  {
   "cell_type": "markdown",
   "metadata": {},
   "source": [
    "This code will plot the two learned models.  (The blue line is for the model with no regularization and the red line is for the one with high regularization.)"
   ]
  },
  {
   "cell_type": "code",
   "execution_count": 65,
   "metadata": {
    "collapsed": false
   },
   "outputs": [
    {
     "name": "stdout",
     "output_type": "stream",
     "text": [
      "[ 310368.71865229  675972.45540392  202528.76752411 ...,  402427.21351781\n",
      "  420838.91249092  268284.8352852 ]\n",
      "[ 146998.13486177  320155.7790378    95922.85852207 ...,  190598.9805176\n",
      "  199319.14964877  127066.31970481]\n"
     ]
    },
    {
     "data": {
      "image/png": "[encoded data removed]",
      "text/plain": [
       "<matplotlib.figure.Figure at 0x113f7c210>"
      ]
     },
     "metadata": {},
     "output_type": "display_data"
    }
   ],
   "source": [
    "import matplotlib.pyplot as plt\n",
    "import matplotlib.patches as mpatches\n",
    "\n",
    "\n",
    "%matplotlib inline\n",
    "line1 = plt.plot(simple_feature_matrix,output,'k.', label='output')\n",
    "line2 = plt.plot(simple_feature_matrix,predict_output(simple_feature_matrix, simple_weights_0_penalty),'b-', label='no penalty')\n",
    "line3 = plt.plot(simple_feature_matrix,predict_output(simple_feature_matrix, simple_weights_high_penalty),'r-', label='high penalty')\n",
    "\n",
    "black_patch = mpatches.Patch(color='black', label='output')\n",
    "blue_patch = mpatches.Patch(color='blue', label='no penalty')\n",
    "red_patch = mpatches.Patch(color='red', label='high penalty')\n",
    "\n",
    "\n",
    "plt.legend(handles=[black_patch, blue_patch, red_patch])\n",
    "\n",
    "plt.show()\n",
    "#plt.legend(handles=[line1, line2, line3])\n",
    "#plt.legend([line1, line2, line3], ['output', 'no penalty', 'high penalty'])"
   ]
  },
  {
   "cell_type": "markdown",
   "metadata": {},
   "source": [
    "Compute the RSS on the TEST data for the following three sets of weights:\n",
    "1. The initial weights (all zeros)\n",
    "2. The weights learned with no regularization\n",
    "3. The weights learned with high regularization\n",
    "\n",
    "Which weights perform best?"
   ]
  },
  {
   "cell_type": "code",
   "execution_count": 66,
   "metadata": {
    "collapsed": true
   },
   "outputs": [],
   "source": [
    "def get_residual_sum_of_squares(feature_matrix, output,weights):\n",
    "    pred = predict_outcome(feature_matrix, weights)\n",
    "    RSS = np.sum(np.square(output - pred))\n",
    "    return(RSS)"
   ]
  },
  {
   "cell_type": "code",
   "execution_count": 71,
   "metadata": {
    "collapsed": false
   },
   "outputs": [
    {
     "name": "stdout",
     "output_type": "stream",
     "text": [
      "[ 0.  0.  0. ...,  0.  0.  0.]\n",
      "1.78427328252e+15\n"
     ]
    }
   ],
   "source": [
    "weights = np.array([0., 0.])\n",
    "RSS_zero = get_residual_sum_of_squares(simple_test_feature_matrix, test_output, weights)\n",
    "print RSS_zero"
   ]
  },
  {
   "cell_type": "code",
   "execution_count": 72,
   "metadata": {
    "collapsed": false
   },
   "outputs": [
    {
     "name": "stdout",
     "output_type": "stream",
     "text": [
      "[ 376124.78641338  775921.67840077  449771.58230579 ...,  662821.24185171\n",
      "  607586.1449324   268284.8352852 ]\n",
      "2.75723643935e+14\n"
     ]
    }
   ],
   "source": [
    "weights = simple_weights_0_penalty\n",
    "RSS_no_reg = get_residual_sum_of_squares(simple_test_feature_matrix, test_output, weights)\n",
    "print RSS_no_reg"
   ]
  },
  {
   "cell_type": "code",
   "execution_count": 73,
   "metadata": {
    "collapsed": false
   },
   "outputs": [
    {
     "name": "stdout",
     "output_type": "stream",
     "text": [
      "[ 178141.59604451  367493.84003556  213022.27256917 ...,  313927.08680125\n",
      "  287766.57940775  127066.31970481]\n",
      "6.94653089852e+14\n"
     ]
    }
   ],
   "source": [
    "weights = simple_weights_high_penalty\n",
    "RSS_high_penalty = get_residual_sum_of_squares(simple_test_feature_matrix, test_output, weights)\n",
    "print RSS_high_penalty"
   ]
  },
  {
   "cell_type": "markdown",
   "metadata": {
    "collapsed": false
   },
   "source": [
    "***QUIZ QUESTIONS***\n",
    "1. What is the value of the coefficient for `sqft_living` that you learned with no regularization, rounded to 1 decimal place?  What about the one with high regularization?\n",
    "2. Comparing the lines you fit with the with no regularization versus high regularization, which one is steeper?\n",
    "3. What are the RSS on the test data for each of the set of weights above (initial, no regularization, high regularization)? \n"
   ]
  },
  {
   "cell_type": "markdown",
   "metadata": {},
   "source": [
    "# Running a multiple regression with L2 penalty"
   ]
  },
  {
   "cell_type": "markdown",
   "metadata": {},
   "source": [
    "Let us now consider a model with 2 features: `['sqft_living', 'sqft_living15']`."
   ]
  },
  {
   "cell_type": "markdown",
   "metadata": {},
   "source": [
    "First, create Numpy versions of your training and test data with these two features. "
   ]
  },
  {
   "cell_type": "code",
   "execution_count": 74,
   "metadata": {
    "collapsed": true
   },
   "outputs": [],
   "source": [
    "model_features = ['sqft_living', 'sqft_living15'] # sqft_living15 is the average squarefeet for the nearest 15 neighbors. \n",
    "my_output = 'price'\n",
    "(feature_matrix, output) = get_numpy_data(train_data, model_features, my_output)\n",
    "(test_feature_matrix, test_output) = get_numpy_data(test_data, model_features, my_output)"
   ]
  },
  {
   "cell_type": "markdown",
   "metadata": {},
   "source": [
    "We need to re-inialize the weights, since we have one extra parameter. Let us also set the step size and maximum number of iterations."
   ]
  },
  {
   "cell_type": "code",
   "execution_count": 81,
   "metadata": {
    "collapsed": true
   },
   "outputs": [],
   "source": [
    "initial_weights = np.array([0.0,0.0,0.0])\n",
    "step_size = 1e-12\n",
    "max_iterations = 1000"
   ]
  },
  {
   "cell_type": "markdown",
   "metadata": {},
   "source": [
    "First, let's consider no regularization.  Set the `l2_penalty` to `0.0` and run your ridge regression algorithm to learn the weights of your model.  Call your weights:\n",
    "\n",
    "`multiple_weights_0_penalty`"
   ]
  },
  {
   "cell_type": "code",
   "execution_count": 82,
   "metadata": {
    "collapsed": false
   },
   "outputs": [
    {
     "name": "stdout",
     "output_type": "stream",
     "text": [
      "[ 0.  0.  0. ...,  0.  0.  0.]\n",
      "[ 112656.49646491  193285.58531031  151749.9225216  ...,  137277.19058288\n",
      "  135503.53117881   91518.13330615]\n",
      "[ 188360.71258178  323403.53741402  253376.5465893  ...,  229565.4283716\n",
      "  226637.50522634  153043.6292995 ]\n",
      "[ 239216.2999888   411042.92649451  321299.72816357 ...,  291600.53059296\n",
      "  287934.63462679  194400.36682473]\n",
      "[ 273362.48217303  470116.33608508  366561.15394223 ...,  333291.74859481\n",
      "  329167.5922025   222194.51391338]\n",
      "[ 296272.56204508  509979.4313693   396585.90533555 ...,  361302.65973819\n",
      "  356908.11302164  240868.45578642]\n",
      "[ 311627.11674653  536923.53077081  416367.04032432 ...,  380114.25445077\n",
      "  375575.42855191  253409.5196065 ]\n",
      "[ 321901.18650166  555179.30110888  429262.17774395 ...,  392739.8200774\n",
      "  388141.29701766  261826.56374532]\n",
      "[ 328759.13581522  567591.70275513  437529.16859947 ...,  401205.67189654\n",
      "  396604.10833313  267470.46515055]\n",
      "[ 333320.18195625  576073.86346366  442686.31376409 ...,  406874.42564908\n",
      "  402307.70085333  271249.63438023]\n",
      "[ 336336.9523248   581912.2905082   445754.59608424 ...,  410662.38548355\n",
      "  406155.75298547  273774.94090984]\n",
      "[ 338315.55719424  585972.11373097  447420.57185583 ...,  413185.72872139\n",
      "  408755.95303874  275457.16964932]\n",
      "[ 339596.33386485  588835.10334731  448145.90887651 ...,  414858.80930956\n",
      "  410516.94772628  276572.55658283]\n",
      "[ 340408.14390237  590892.48144164  448241.04643784 ...,  415960.26299089\n",
      "  411713.53618502  277306.85888534]\n",
      "[ 340904.88587586  592407.33401513  447914.72874609 ...,  416677.46040743\n",
      "  412530.51036656  277784.99032706]\n",
      "[ 341190.0487247   593556.58061079  447307.31418123 ...,  417136.40004815\n",
      "  413092.13596005  278090.94990654]\n",
      "[ 341333.22292335  594459.1972208   446513.17445121 ...,  417421.81006978\n",
      "  413481.97714278  278281.2230656 ]\n",
      "[ 341381.20358427  595195.19507175  445595.75713359 ...,  417590.66597352\n",
      "  413756.22793817  278393.79347437]\n",
      "[ 341365.45685388  595818.38310455  444597.71463662 ...,  417681.28070606\n",
      "  413952.67702484  278454.20309913]\n",
      "[ 341307.14076749  596364.95023587  443547.71552299 ...,  417719.41739173\n",
      "  414096.73621507  278479.6273573 ]\n",
      "[ 341220.48157489  596859.23658847  442465.02485424 ...,  417722.39990223\n",
      "  414205.49436714  278481.61549748]\n",
      "[ 341115.04418521  597317.61441472  441362.58429021 ...,  417701.87705158\n",
      "  414290.44348064  278467.93339625]\n",
      "[ 340997.258951    597751.09786373  440249.08333305 ...,  417665.68140754\n",
      "  414359.31188733  278443.8027658 ]\n",
      "[ 340871.44836977  598167.09794645  439130.35215628 ...,  417619.07926841\n",
      "  414417.2969992   278412.73447192]\n",
      "[ 340740.51750004  598570.60268006  438010.29822652 ...,  417565.61122286\n",
      "  414467.89428274  278377.08890721]\n",
      "[ 340606.41823865  598964.9706885   436891.53614394 ...,  417507.657393\n",
      "  414513.45471115  278338.45281986]\n",
      "[ 340470.46152879  599352.46486744  435775.81118459 ...,  417446.81753786\n",
      "  414555.5596289   278297.89271597]\n",
      "[ 340333.52730736  599734.61125292  434664.28411527 ...,  417384.16665792\n",
      "  414595.27283325  278256.12526256]\n",
      "[ 340196.20568631  600112.44034648  433557.72271981 ...,  417320.42687893\n",
      "  414633.31008909  278213.63187683]\n",
      "[ 340058.89189136  600486.64939684  432456.63059242 ...,  417256.08303696\n",
      "  414670.15312099  278170.73578285]\n",
      "[ 339921.85010443  600857.71152806  431361.33374567 ...,  417191.46040473\n",
      "  414706.12626829  278127.65382911]\n",
      "[ 339785.25639519  601225.94912402  430272.03885049 ...,  417126.77695942\n",
      "  414741.44803264  278084.53133375]\n",
      "[ 339649.22759065  601591.58317678  429188.87239976 ...,  417062.17853076\n",
      "  414776.2657417   278041.46551658]\n",
      "[ 339513.84068883  601954.76647146  428111.90704386 ...,  416997.76243659\n",
      "  414810.67885914  277998.52125617]\n",
      "[ 339379.14591363  602315.60590197  427041.17929988 ...,  416933.59337686\n",
      "  414844.75465962  277955.74168582]\n",
      "[ 339245.17549359  602674.17747757  425976.70145984 ...,  416869.71412173\n",
      "  414878.53876969  277913.15531896]\n",
      "[ 339111.94956531  603030.53641434  424918.46959815 ...,  416806.15269878\n",
      "  414912.06225611  277870.78084065]\n",
      "[ 338979.48014309  603384.72392142  423866.4689558  ...,  416742.92722615\n",
      "  414945.34639248  277828.63032965]\n",
      "[ 338847.77378839  603736.77176467  422820.67756064 ...,  416680.04916262\n",
      "  414978.40586459  277786.71142515]\n",
      "[ 338716.83340487  604086.70533566  421781.06866143 ...,  416617.5254931\n",
      "  415011.25092597  277745.02878374]\n",
      "[ 338586.65944539  604434.54571557  420747.61236422 ...,  416555.36019829\n",
      "  415043.88884738  277703.58505922]\n",
      "[ 338457.25072362  604780.31106332  419720.27673231 ...,  416493.55524289\n",
      "  415076.32489154  277662.3815614 ]\n",
      "[ 338328.60495985  605124.01754901  418699.02852553 ...,  416432.11124018\n",
      "  415108.56296866  277621.41869913]\n",
      "[ 338200.71914783  605465.67998194  417683.83369698 ...,  416371.02789887\n",
      "  415140.60607721  277580.69627819]\n",
      "[ 338073.58980153  605805.31223293  416674.65772661 ...,  416310.30432351\n",
      "  415172.45660035  277540.21370164]\n",
      "[ 337947.21312095  606142.92751851  415671.46584515 ...,  416249.93921657\n",
      "  415204.11650536  277499.97010445]\n",
      "[ 337821.5851036   606478.53859218  414674.22318429 ...,  416189.93101424\n",
      "  415235.58747761  277459.96444408]\n",
      "[ 337696.70161942  606812.15787312  413682.89487726 ...,  416130.27797777\n",
      "  415266.8710108   277420.19556134]\n",
      "[ 337572.55846107  607143.79753292  412697.44612606 ...,  416070.97825481\n",
      "  415297.9684676   277380.66222135]\n",
      "[ 337449.15137774  607473.46955397  411717.84224625 ...,  416012.0299207\n",
      "  415328.8811204   277341.36314099]\n",
      "[ 337326.47609782  607801.18576897  410744.04869671 ...,  415953.43100617\n",
      "  415359.61017882  277302.29700741]\n",
      "[ 337204.5283441   608126.95788751  409776.03109921 ...,  415895.17951596\n",
      "  415390.15680815  277263.46249044]\n",
      "[ 337083.30384391  608450.79751418  408813.75525124 ...,  415837.2734413\n",
      "  415420.52214177  277224.85825091]\n",
      "[ 336962.79833597  608772.7161608   407857.18713415 ...,  415779.71076832\n",
      "  415450.70728954  277186.48294621]\n",
      "[ 336843.00757483  609092.72525482  406906.29291831 ...,  415722.48948361\n",
      "  415480.71334345  277148.33523409]\n",
      "[ 336723.9273339   609410.8361451   405961.03896619 ...,  415665.60757804\n",
      "  415510.5413814   277110.4137751 ]\n",
      "[ 336605.55340743  609727.06010592  405021.391834   ...,  415609.06304917\n",
      "  415540.1924698   277072.71723431]\n",
      "[ 336487.88161173  610041.40833977  404087.31827243 ...,  415552.853903\n",
      "  415569.66766529  277035.24428236]\n",
      "[ 336370.907786    610353.89197942  403158.78522681 ...,  415496.97815497\n",
      "  415598.96801593  276997.99359622]\n",
      "[ 336254.62779285  610664.5220894   402235.75983674 ...,  415441.43383076\n",
      "  415628.09456203  276960.96385967]\n",
      "[ 336139.03751854  610973.3096671   401318.2094356  ...,  415386.21896666\n",
      "  415657.04833665  276924.15376356]\n",
      "[ 336024.13287316  611280.26564369  400406.1015497  ...,  415331.33160993\n",
      "  415685.83036605  276887.56200608]\n",
      "[ 335909.90979065  611585.40088483  399499.40389746 ...,  415276.76981891\n",
      "  415714.44166992  276851.18729277]\n",
      "[ 335796.36422882  611888.72619129  398598.08438842 ...,  415222.53166315\n",
      "  415742.88326158  276815.02833667]\n",
      "[ 335683.49216927  612190.25229944  397702.11112221 ...,  415168.61522342\n",
      "  415771.15614813  276779.0838583 ]\n",
      "[ 335571.28961731  612489.98988177  396811.45238754 ...,  415115.01859175\n",
      "  415799.26133055  276743.35258565]\n",
      "[ 335459.75260187  612787.94954736  395926.07666108 ...,  415061.73987136\n",
      "  415827.19980379  276707.83325423]\n",
      "[ 335348.8771754   613084.14184223  395045.95260645 ...,  415008.77717669\n",
      "  415854.97255684  276672.52460698]\n",
      "[ 335238.65941369  613378.5772498   394171.04907304 ...,  414956.12863329\n",
      "  415882.58057275  276637.42539426]\n",
      "[ 335129.09541582  613671.26619127  393301.33509504 ...,  414903.7923778\n",
      "  415910.02482875  276602.53437384]\n",
      "[ 335020.18130396  613962.21902598  392436.77989025 ...,  414851.76655792\n",
      "  415937.30629623  276567.85031085]\n",
      "[ 334911.91322329  614251.44605181  391577.35285905 ...,  414800.0493323\n",
      "  415964.4259408   276533.37197771]\n",
      "[ 334804.28734185  614538.95750557  390723.02358332 ...,  414748.6388705\n",
      "  415991.38472236  276499.09815414]\n",
      "[ 334697.2998504   614824.76356331  389873.76182537 ...,  414697.53335296\n",
      "  416018.18359508  276465.02762708]\n",
      "[ 334590.94696227  615108.87434071  389029.53752685 ...,  414646.73097086\n",
      "  416044.82350748  276431.15919067]\n",
      "[ 334485.22491329  615391.29989349  388190.32080769 ...,  414596.22992616\n",
      "  416071.30540245  276397.4916462 ]\n",
      "[ 334380.12996158  615672.05021766  387356.08196508 ...,  414546.02843145\n",
      "  416097.63021729  276364.02380206]\n",
      "[ 334275.65838748  615951.13524998  386526.79147238 ...,  414496.12470993\n",
      "  416123.79888374  276330.75447372]\n",
      "[ 334171.80649337  616228.56486826  385702.41997807 ...,  414446.51699534\n",
      "  416149.812328    276297.68248367]\n",
      "[ 334068.57060358  616504.3488917   384882.93830477 ...,  414397.20353189\n",
      "  416175.67147079  276264.80666138]\n",
      "[ 333965.94706423  616778.49708128  384068.31744813 ...,  414348.18257421\n",
      "  416201.37722735  276232.12584327]\n",
      "[ 333863.93224313  617051.01914006  383258.52857587 ...,  414299.45238728\n",
      "  416226.9305075   276199.63887266]\n",
      "[ 333762.5225296   617321.92471356  382453.5430267  ...,  414251.01124638\n",
      "  416252.33221569  276167.34459973]\n",
      "[ 333661.71433442  617591.22339008  381653.33230936 ...,  414202.857437\n",
      "  416277.58325095  276135.24188147]\n",
      "[ 333561.50408964  617858.92470106  380857.86810159 ...,  414154.98925481\n",
      "  416302.68450703  276103.32958168]\n",
      "[ 333461.88824846  618125.03812138  380067.12224911 ...,  414107.40500561\n",
      "  416327.63687235  276071.60657085]\n",
      "[ 333362.86328514  618389.57306974  379281.06676465 ...,  414060.10300522\n",
      "  416352.44123006  276040.07172623]\n",
      "[ 333264.42569484  618652.53890896  378499.67382694 ...,  414013.08157945\n",
      "  416377.09845808  276008.72393167]\n",
      "[ 333166.57199352  618913.94494632  377722.91577973 ...,  413966.33906407\n",
      "  416401.60942913  275977.56207768]\n",
      "[ 333069.29871779  619173.80043391  376950.76513084 ...,  413919.87380469\n",
      "  416425.97501074  275946.58506135]\n",
      "[ 332972.60242481  619432.11456892  376183.19455114 ...,  413873.68415674\n",
      "  416450.1960653   275915.79178629]\n",
      "[ 332876.47969218  619688.89649401  375420.17687361 ...,  413827.76848543\n",
      "  416474.27345007  275885.18116262]\n",
      "[ 332780.92711777  619944.1552976   374661.68509238 ...,  413782.12516563\n",
      "  416498.20801725  275854.75210695]\n",
      "[ 332685.94131966  620197.90001418  373907.69236174 ...,  413736.75258188\n",
      "  416522.00061397  275824.50354227]\n",
      "[ 332591.51893596  620450.13962467  373158.17199526 ...,  413691.64912827\n",
      "  416545.65208234  275794.43439801]\n",
      "[ 332497.65662473  620700.88305674  372413.09746477 ...,  413646.81320846\n",
      "  416569.16325947  275764.54360991]\n",
      "[ 332404.35106388  620950.13918506  371672.44239947 ...,  413602.24323553\n",
      "  416592.53497751  275734.83012003]\n",
      "[ 332311.59895099  621197.9168317   370936.18058497 ...,  413557.93763201\n",
      "  416615.76806368  275705.29287673]\n",
      "[ 332219.39700324  621444.22476637  370204.28596237 ...,  413513.89482977\n",
      "  416638.86334027  275675.93083458]\n",
      "[ 332127.74195729  621689.07170679  369476.73262737 ...,  413470.11326999\n",
      "  416661.82162471  275646.74295436]\n",
      "[  1.80292509e-03   1.87808775e+02   8.24046825e+01]\n"
     ]
    }
   ],
   "source": [
    "l2_penalty = 0.0\n",
    "multiple_weights_0_penalty = ridge_regression_gradient_descent(feature_matrix, output, initial_weights, step_size, l2_penalty, max_iterations=100)\n",
    "print multiple_weights_0_penalty"
   ]
  },
  {
   "cell_type": "markdown",
   "metadata": {},
   "source": [
    "Next, let's consider high regularization.  Set the `l2_penalty` to `1e11` and run your ridge regression algorithm to learn the weights of your model.  Call your weights:\n",
    "\n",
    "`multiple_weights_high_penalty`"
   ]
  },
  {
   "cell_type": "code",
   "execution_count": 83,
   "metadata": {
    "collapsed": false
   },
   "outputs": [
    {
     "name": "stdout",
     "output_type": "stream",
     "text": [
      "[ 0.  0.  0. ...,  0.  0.  0.]\n",
      "[ 112656.49646491  193285.58531031  151749.9225216  ...,  137277.19058288\n",
      "  135503.53117881   91518.13330615]\n",
      "[ 165829.41703934  284746.4241025   223026.56583552 ...,  202109.99400556\n",
      "  199536.80274111  134740.00638881]\n",
      "[ 190909.58267208  328070.06010014  256369.09925128 ...,  232720.89340449\n",
      "  229800.48845154  155147.27578909]\n",
      "[ 202725.67134934  348627.70988443  271857.81608938 ...,  247167.42577992\n",
      "  244107.22174334  164778.30003475]\n",
      "[ 208281.86681486  358411.01702481  278965.74258421 ...,  253980.2114633\n",
      "  250873.21058309  169320.15959604]\n",
      "[ 210885.95593453  363089.32945244  282157.29899384 ...,  257188.95558695\n",
      "  254075.13300244  171459.32467889]\n",
      "[ 212099.61549765  365344.18445861  283532.84622127 ...,  258696.99833738\n",
      "  255592.09244967  172464.68879657]\n",
      "[ 212659.78546634  366444.880521    284077.65382462 ...,  259403.16712987\n",
      "  256312.11377033  172935.47025222]\n",
      "[ 212913.93372807  366992.99950283  284251.61039399 ...,  259731.78453515\n",
      "  256654.93056587  173154.55077205]\n",
      "[ 213025.66366287  367274.26471828  284267.53858358 ...,  259883.0579592\n",
      "  256818.99093572  173255.40196588]\n",
      "[ 213071.82557835  367424.86000309  284222.4499211  ...,  259951.36451019\n",
      "  256898.16540021  173300.94190858]\n",
      "[ 213088.37420146  367510.0724775   284159.36850874 ...,  259981.12453223\n",
      "  256936.89272707  173320.7841642 ]\n",
      "[ 213092.01561849  367561.49863516  284096.39019904 ...,  259993.19060255\n",
      "  256956.238882    173328.83045149]\n",
      "[ 213090.41958319  367594.66284733  284040.29273666 ...,  259997.30811469\n",
      "  256966.21260926  173331.57769976]\n",
      "[ 213087.03250657  367617.37325194  283992.87138466 ...,  259997.99671534\n",
      "  256971.58704077  173332.03900695]\n",
      "[ 213083.34193776  367633.69486655  283953.85711709 ...,  259997.32452841\n",
      "  256974.65254656  173331.59312238]\n",
      "[ 213079.93892485  367645.84680632  283922.23568357 ...,  259996.21527531\n",
      "  256976.51923012  173330.85586035]\n",
      "[ 213077.01396965  367655.11458868  283896.82343612 ...,  259995.06298632\n",
      "  256977.73380089  173330.08990773]\n",
      "[ 213074.58660715  367662.29382227  283876.50176267 ...,  259994.02016343\n",
      "  256978.57220919  173329.39693251]\n",
      "[ 213072.61010917  367667.90988611  283860.29797312 ...,  259993.1321281\n",
      "  256979.17884734  173328.80714901]\n",
      "[ 213071.01796433  367672.32970261  283847.39979251 ...,  259992.39906772\n",
      "  256979.63306523  173328.32068214]\n",
      "[ 213069.74346479  367675.82088537  283837.14337136 ...,  259991.80421658\n",
      "  256979.98119073  173327.92635477]\n",
      "[ 213068.72707602  367678.58471789  283828.99266301 ...,  259991.3262701\n",
      "  256980.25213004  173327.60996385]\n",
      "[ 213067.91842228  367680.77573209  283822.51780257 ...,  259990.94453535\n",
      "  256980.46511305  173327.35771408]\n",
      "[ 213067.27603661  367682.51413234  283817.37546024 ...,  259990.6407969\n",
      "  256980.63365037  173327.15746184]\n",
      "[ 213066.76629913  367683.8941859   283813.29206951 ...,  259990.39974763\n",
      "  256980.76763916  173326.9990024 ]\n",
      "[ 213066.3621863   367684.99018835  283810.04995619 ...,  259990.20883449\n",
      "  256980.87454575  173326.87396704]\n",
      "[ 213066.04208507  367685.86087132  283807.47606244 ...,  259990.05790134\n",
      "  256980.96011339  173326.77558501]\n",
      "[ 213065.78876017  367686.55274698  283805.43286945 ...,  259989.93879464\n",
      "  256981.02881495  173326.69842062]\n",
      "[ 213065.58849114  367687.1026902   283803.81113108 ...,  259989.84499794\n",
      "  256981.08416077  173326.63812956]\n",
      "[ 213065.4303667   367687.53995429  283802.52407632 ...,  259989.77131687\n",
      "  256981.12891875  173326.59124892]\n",
      "[ 213065.30571485  367687.88775524  283801.50279261 ...,  259989.71361739\n",
      "  256981.16527754  173326.55502267]\n",
      "[ 213065.20764577  367688.1645219   283800.6925537  ...,  259989.66861234\n",
      "  256981.19497071  173326.52725938]\n",
      "[ 213065.13068677  367688.38488511  283800.04990091 ...,  259989.63368942\n",
      "  256981.21937276  173326.50621751]\n",
      "[ 213065.07049136  367688.56046135  283799.54032394 ...,  259989.60677329\n",
      "  256981.23957418  173326.4905135 ]\n",
      "[ 213065.02360771  367688.70047426  283799.13641875 ...,  259989.58621551\n",
      "  256981.25644043  173326.47904839]\n",
      "[ 213064.98729469  367688.81224774  283798.81642441 ...,  259989.57070689\n",
      "  256981.27065851  173326.47094938]\n",
      "[ 213064.95937553  367688.90159731  283798.56306111 ...,  259989.55920775\n",
      "  256981.28277386  173326.46552337]\n",
      "[ 213064.93812173  367688.97314082  283798.36260749 ...,  259989.55089245\n",
      "  256981.29321955  173326.46221991]\n",
      "[ 213064.92216068  367689.03054513  283798.20416778 ...,  259989.54510536\n",
      "  256981.30233942  173326.46060192]\n",
      "[ 213064.91040245  367689.07672196  283798.07909    ...,  259989.54132585\n",
      "  256981.31040652  173326.46032233]\n",
      "[ 213064.90198155  367689.11398341  283797.9805039  ...,  259989.5391405\n",
      "  256981.31763764  173326.4611055 ]\n",
      "[ 213064.89621072  367689.14416544  283797.90295399 ...,  259989.53822103\n",
      "  256981.32420495  173326.4627326 ]\n",
      "[ 213064.89254423  367689.16872592  283797.84210826 ...,  259989.53830674\n",
      "  256981.33024515  173326.46502982]\n",
      "[ 213064.89054872  367689.18882253  283797.7945268  ...,  259989.53919066\n",
      "  256981.33586678  173326.46785917]\n",
      "[ 213064.8898801   367689.2053745   283797.75747807 ...,  259989.54070839\n",
      "  256981.34115605  173326.47111107]\n",
      "[ 213064.89026511  367689.21911178  283797.72879305 ...,  259989.54272942\n",
      "  256981.34618139  173326.47469849]\n",
      "[ 213064.89148678  367689.23061402  283797.7067494  ...,  259989.54515009\n",
      "  256981.35099716  173326.47855236]\n",
      "[ 213064.89337281  367689.24034148  283797.68997943 ...,  259989.54788812\n",
      "  256981.35564651  173326.48261779]\n",
      "[ 213064.89578639  367689.24865964  283797.67739714 ...,  259989.55087815\n",
      "  256981.36016372  173326.48685121]\n",
      "[ 213064.89861888  367689.25585873  283797.66814014 ...,  259989.55406828\n",
      "  256981.364576    173326.49121804]\n",
      "[ 213064.90178401  367689.26216918  283797.66152367 ...,  259989.55741731\n",
      "  256981.36890495  173326.49569081]\n",
      "[ 213064.90521328  367689.26777401  283797.65700394 ...,  259989.56089251\n",
      "  256981.37316774  173326.50024768]\n",
      "[ 213064.90885231  367689.27281852  283797.65414917 ...,  259989.56446791\n",
      "  256981.37737799  173326.50487135]\n",
      "[ 213064.91265788  367689.2774181   283797.6526165  ...,  259989.56812286\n",
      "  256981.38154651  173326.50954806]\n",
      "[ 213064.91659571  367689.28166437  283797.65213367 ...,  259989.57184099\n",
      "  256981.38568191  173326.51426689]\n",
      "[ 213064.92063856  367689.28563009  283797.65248447 ...,  259989.57560928\n",
      "  256981.38979101  173326.51901916]\n",
      "[ 213064.9247648   367689.28937304  283797.65349724 ...,  259989.5794174\n",
      "  256981.39387922  173326.52379799]\n",
      "[ 213064.92895726  367689.29293909  283797.65503565 ...,  259989.58325716\n",
      "  256981.39795083  173326.5285979 ]\n",
      "[ 213064.9332023   367689.29636467  283797.65699147 ...,  259989.58712204\n",
      "  256981.40200928  173326.53341456]\n",
      "[ 213064.9374891   367689.29967871  283797.65927873 ...,  259989.59100686\n",
      "  256981.40605727  173326.53824452]\n",
      "[ 213064.94180905  367689.30290418  283797.66182917 ...,  259989.59490752\n",
      "  256981.41009695  173326.54308503]\n",
      "[ 213064.94615533  367689.30605931  283797.66458861 ...,  259989.59882075\n",
      "  256981.41413004  173326.54793393]\n",
      "[ 213064.95052252  367689.3091586   283797.667514   ...,  259989.60274397\n",
      "  256981.41815789  173326.55278949]\n",
      "[ 213064.9549063   367689.31221353  283797.67057117 ...,  259989.60667512\n",
      "  256981.42218158  173326.55765033]\n",
      "[ 213064.95930327  367689.31523326  283797.67373298 ...,  259989.61061257\n",
      "  256981.42620197  173326.56251537]\n",
      "[ 213064.96371071  367689.31822501  283797.67697788 ...,  259989.61455502\n",
      "  256981.43021974  173326.56738374]\n",
      "[ 213064.96812646  367689.32119457  283797.68028876 ...,  259989.61850143\n",
      "  256981.43423543  173326.57225476]\n",
      "[ 213064.97254881  367689.32414649  283797.68365204 ...,  259989.622451\n",
      "  256981.43824946  173326.57712788]\n",
      "[ 213064.9769764   367689.32708441  283797.68705691 ...,  259989.62640308\n",
      "  256981.44226218  173326.58200268]\n",
      "[ 213064.98140815  367689.33001121  283797.69049483 ...,  259989.63035714\n",
      "  256981.44627386  173326.58687879]\n",
      "[ 213064.98584321  367689.33292919  283797.69395897 ...,  259989.63431278\n",
      "  256981.45028471  173326.59175596]\n",
      "[ 213064.99028089  367689.33584015  283797.69744395 ...,  259989.63826967\n",
      "  256981.4542949   173326.59663396]\n",
      "[ 213064.99472065  367689.33874555  283797.70094547 ...,  259989.64222756\n",
      "  256981.45830457  173326.60151263]\n",
      "[ 213064.99916207  367689.34164652  283797.70446012 ...,  259989.64618624\n",
      "  256981.46231383  173326.60639183]\n",
      "[ 213065.0036048   367689.34454399  283797.7079852  ...,  259989.65014555\n",
      "  256981.46632276  173326.61127144]\n",
      "[ 213065.00804858  367689.34743867  283797.71151857 ...,  259989.65410535\n",
      "  256981.47033142  173326.61615139]\n",
      "[ 213065.01249318  367689.35033114  283797.71505851 ...,  259989.65806555\n",
      "  256981.47433988  173326.62103159]\n",
      "[ 213065.01693845  367689.35322185  283797.71860367 ...,  259989.66202607\n",
      "  256981.47834817  173326.62591201]\n",
      "[ 213065.02138423  367689.35611116  283797.72215298 ...,  259989.66598683\n",
      "  256981.48235633  173326.6307926 ]\n",
      "[ 213065.02583043  367689.35899936  283797.72570558 ...,  259989.6699478\n",
      "  256981.48636439  173326.63567331]\n",
      "[ 213065.03027696  367689.36188669  283797.7292608  ...,  259989.67390892\n",
      "  256981.49037237  173326.64055414]\n",
      "[ 213065.03472375  367689.36477331  283797.7328181  ...,  259989.67787016\n",
      "  256981.49438028  173326.64543504]\n",
      "[ 213065.03917075  367689.36765939  283797.73637704 ...,  259989.68183151\n",
      "  256981.49838813  173326.65031601]\n",
      "[ 213065.04361791  367689.37054502  283797.73993729 ...,  259989.68579293\n",
      "  256981.50239595  173326.65519703]\n",
      "[ 213065.0480652   367689.3734303   283797.74349858 ...,  259989.68975441\n",
      "  256981.50640373  173326.6600781 ]\n",
      "[ 213065.0525126   367689.3763153   283797.7470607  ...,  259989.69371595\n",
      "  256981.51041149  173326.6649592 ]\n",
      "[ 213065.05696008  367689.37920008  283797.75062347 ...,  259989.69767752\n",
      "  256981.51441923  173326.66984032]\n",
      "[ 213065.06140763  367689.38208469  283797.75418676 ...,  259989.70163913\n",
      "  256981.51842695  173326.67472147]\n",
      "[ 213065.06585522  367689.38496916  283797.75775047 ...,  259989.70560076\n",
      "  256981.52243465  173326.67960263]\n",
      "[ 213065.07030286  367689.38785352  283797.7613145  ...,  259989.70956241\n",
      "  256981.52644235  173326.6844838 ]\n",
      "[ 213065.07475053  367689.39073779  283797.76487879 ...,  259989.71352408\n",
      "  256981.53045004  173326.68936499]\n",
      "[ 213065.07919823  367689.39362199  283797.76844329 ...,  259989.71748575\n",
      "  256981.53445772  173326.69424618]\n",
      "[ 213065.08364595  367689.39650613  283797.77200796 ...,  259989.72144744\n",
      "  256981.5384654   173326.69912738]\n",
      "[ 213065.08809368  367689.39939023  283797.77557276 ...,  259989.72540914\n",
      "  256981.54247307  173326.70400858]\n",
      "[ 213065.09254143  367689.4022743   283797.77913765 ...,  259989.72937084\n",
      "  256981.54648074  173326.70888979]\n",
      "[ 213065.09698919  367689.40515833  283797.78270264 ...,  259989.73333255\n",
      "  256981.5504884   173326.71377101]\n",
      "[ 213065.10143695  367689.40804235  283797.78626768 ...,  259989.73729426\n",
      "  256981.55449607  173326.71865222]\n",
      "[ 213065.10588473  367689.41092635  283797.78983278 ...,  259989.74125597\n",
      "  256981.55850373  173326.72353344]\n",
      "[  0.69480859  91.49008087  78.43740306]\n"
     ]
    }
   ],
   "source": [
    "l2_penalty = 1e11\n",
    "multiple_weights_high_penalty = ridge_regression_gradient_descent(feature_matrix, output, initial_weights, step_size, l2_penalty, max_iterations=100)\n",
    "print multiple_weights_high_penalty"
   ]
  },
  {
   "cell_type": "markdown",
   "metadata": {},
   "source": [
    "Compute the RSS on the TEST data for the following three sets of weights:\n",
    "1. The initial weights (all zeros)\n",
    "2. The weights learned with no regularization\n",
    "3. The weights learned with high regularization\n",
    "\n",
    "Which weights perform best?"
   ]
  },
  {
   "cell_type": "code",
   "execution_count": 84,
   "metadata": {
    "collapsed": false
   },
   "outputs": [
    {
     "name": "stdout",
     "output_type": "stream",
     "text": [
      "[ 0.  0.  0. ...,  0.  0.  0.]\n",
      "1.78427328252e+15\n"
     ]
    }
   ],
   "source": [
    "weights = initial_weights\n",
    "RSS_zeros_3 = get_residual_sum_of_squares(test_feature_matrix, test_output, weights)\n",
    "print RSS_zeros_3"
   ]
  },
  {
   "cell_type": "code",
   "execution_count": 85,
   "metadata": {
    "collapsed": false
   },
   "outputs": [
    {
     "name": "stdout",
     "output_type": "stream",
     "text": [
      "[ 415246.88456424  730381.90785317  406029.82958631 ...,  680937.91408552\n",
      "  584638.84044597  275617.72820303]\n",
      "2.7600229659e+14\n"
     ]
    }
   ],
   "source": [
    "weights = multiple_weights_0_penalty\n",
    "RSS_0_penalty_3 = get_residual_sum_of_squares(test_feature_matrix, test_output, weights)\n",
    "print RSS_0_penalty_3"
   ]
  },
  {
   "cell_type": "code",
   "execution_count": 86,
   "metadata": {
    "collapsed": false
   },
   "outputs": [
    {
     "name": "stdout",
     "output_type": "stream",
     "text": [
      "[ 270450.0878956   437752.47591692  237239.25824448 ...,  428217.95430592\n",
      "  354883.2292128   173326.72841465]\n",
      "5.00408150015e+14\n"
     ]
    }
   ],
   "source": [
    "weights = multiple_weights_high_penalty\n",
    "RSS_high_penalty_3 = get_residual_sum_of_squares(test_feature_matrix, test_output, weights)\n",
    "print RSS_high_penalty_3"
   ]
  },
  {
   "cell_type": "markdown",
   "metadata": {},
   "source": [
    "Predict the house price for the 1st house in the test set using the no regularization and high regularization models. (Remember that python starts indexing from 0.) How far is the prediction from the actual price?  Which weights perform best for the 1st house?"
   ]
  },
  {
   "cell_type": "code",
   "execution_count": 87,
   "metadata": {
    "collapsed": false
   },
   "outputs": [
    {
     "name": "stdout",
     "output_type": "stream",
     "text": [
      "[ 415246.88456424  730381.90785317  406029.82958631 ...,  680937.91408552\n",
      "  584638.84044597  275617.72820303]\n",
      "[ 270450.0878956   437752.47591692  237239.25824448 ...,  428217.95430592\n",
      "  354883.2292128   173326.72841465]\n"
     ]
    }
   ],
   "source": [
    "predictions_noPenalty = predict_outcome(test_feature_matrix, multiple_weights_0_penalty)\n",
    "predictions_highPenalty = predict_outcome(test_feature_matrix, multiple_weights_high_penalty)\n",
    "\n"
   ]
  },
  {
   "cell_type": "code",
   "execution_count": 90,
   "metadata": {
    "collapsed": false
   },
   "outputs": [
    {
     "data": {
      "text/plain": [
       "array([ 415246.88456424,  730381.90785317,  406029.82958631, ...,\n",
       "        680937.91408552,  584638.84044597,  275617.72820303])"
      ]
     },
     "execution_count": 90,
     "metadata": {},
     "output_type": "execute_result"
    }
   ],
   "source": [
    "predictions_noPenalty"
   ]
  },
  {
   "cell_type": "code",
   "execution_count": 91,
   "metadata": {
    "collapsed": false
   },
   "outputs": [
    {
     "data": {
      "text/plain": [
       "array([ 270450.0878956 ,  437752.47591692,  237239.25824448, ...,\n",
       "        428217.95430592,  354883.2292128 ,  173326.72841465])"
      ]
     },
     "execution_count": 91,
     "metadata": {},
     "output_type": "execute_result"
    }
   ],
   "source": [
    "predictions_highPenalty"
   ]
  },
  {
   "cell_type": "code",
   "execution_count": 92,
   "metadata": {
    "collapsed": false
   },
   "outputs": [
    {
     "data": {
      "text/plain": [
       "<bound method SFrame.head of Columns:\n",
       "\tid\tstr\n",
       "\tdate\tdatetime\n",
       "\tprice\tfloat\n",
       "\tbedrooms\tfloat\n",
       "\tbathrooms\tfloat\n",
       "\tsqft_living\tfloat\n",
       "\tsqft_lot\tint\n",
       "\tfloors\tstr\n",
       "\twaterfront\tint\n",
       "\tview\tint\n",
       "\tcondition\tint\n",
       "\tgrade\tint\n",
       "\tsqft_above\tint\n",
       "\tsqft_basement\tint\n",
       "\tyr_built\tint\n",
       "\tyr_renovated\tint\n",
       "\tzipcode\tstr\n",
       "\tlat\tfloat\n",
       "\tlong\tfloat\n",
       "\tsqft_living15\tfloat\n",
       "\tsqft_lot15\tfloat\n",
       "\tconstant\tint\n",
       "\n",
       "Rows: 21613\n",
       "\n",
       "Data:\n",
       "+------------+---------------------------+-----------+----------+-----------+\n",
       "|     id     |            date           |   price   | bedrooms | bathrooms |\n",
       "+------------+---------------------------+-----------+----------+-----------+\n",
       "| 7129300520 | 2014-10-13 00:00:00+00:00 |  221900.0 |   3.0    |    1.0    |\n",
       "| 6414100192 | 2014-12-09 00:00:00+00:00 |  538000.0 |   3.0    |    2.25   |\n",
       "| 5631500400 | 2015-02-25 00:00:00+00:00 |  180000.0 |   2.0    |    1.0    |\n",
       "| 2487200875 | 2014-12-09 00:00:00+00:00 |  604000.0 |   4.0    |    3.0    |\n",
       "| 1954400510 | 2015-02-18 00:00:00+00:00 |  510000.0 |   3.0    |    2.0    |\n",
       "| 7237550310 | 2014-05-12 00:00:00+00:00 | 1225000.0 |   4.0    |    4.5    |\n",
       "| 1321400060 | 2014-06-27 00:00:00+00:00 |  257500.0 |   3.0    |    2.25   |\n",
       "| 2008000270 | 2015-01-15 00:00:00+00:00 |  291850.0 |   3.0    |    1.5    |\n",
       "| 2414600126 | 2015-04-15 00:00:00+00:00 |  229500.0 |   3.0    |    1.0    |\n",
       "| 3793500160 | 2015-03-12 00:00:00+00:00 |  323000.0 |   3.0    |    2.5    |\n",
       "+------------+---------------------------+-----------+----------+-----------+\n",
       "+-------------+----------+--------+------------+------+-----------+-------+------------+\n",
       "| sqft_living | sqft_lot | floors | waterfront | view | condition | grade | sqft_above |\n",
       "+-------------+----------+--------+------------+------+-----------+-------+------------+\n",
       "|    1180.0   |   5650   |   1    |     0      |  0   |     3     |   7   |    1180    |\n",
       "|    2570.0   |   7242   |   2    |     0      |  0   |     3     |   7   |    2170    |\n",
       "|    770.0    |  10000   |   1    |     0      |  0   |     3     |   6   |    770     |\n",
       "|    1960.0   |   5000   |   1    |     0      |  0   |     5     |   7   |    1050    |\n",
       "|    1680.0   |   8080   |   1    |     0      |  0   |     3     |   8   |    1680    |\n",
       "|    5420.0   |  101930  |   1    |     0      |  0   |     3     |   11  |    3890    |\n",
       "|    1715.0   |   6819   |   2    |     0      |  0   |     3     |   7   |    1715    |\n",
       "|    1060.0   |   9711   |   1    |     0      |  0   |     3     |   7   |    1060    |\n",
       "|    1780.0   |   7470   |   1    |     0      |  0   |     3     |   7   |    1050    |\n",
       "|    1890.0   |   6560   |   2    |     0      |  0   |     3     |   7   |    1890    |\n",
       "+-------------+----------+--------+------------+------+-----------+-------+------------+\n",
       "+---------------+----------+--------------+---------+-------------+\n",
       "| sqft_basement | yr_built | yr_renovated | zipcode |     lat     |\n",
       "+---------------+----------+--------------+---------+-------------+\n",
       "|       0       |   1955   |      0       |  98178  | 47.51123398 |\n",
       "|      400      |   1951   |     1991     |  98125  | 47.72102274 |\n",
       "|       0       |   1933   |      0       |  98028  | 47.73792661 |\n",
       "|      910      |   1965   |      0       |  98136  |   47.52082  |\n",
       "|       0       |   1987   |      0       |  98074  | 47.61681228 |\n",
       "|      1530     |   2001   |      0       |  98053  | 47.65611835 |\n",
       "|       0       |   1995   |      0       |  98003  | 47.30972002 |\n",
       "|       0       |   1963   |      0       |  98198  | 47.40949984 |\n",
       "|      730      |   1960   |      0       |  98146  | 47.51229381 |\n",
       "|       0       |   2003   |      0       |  98038  | 47.36840673 |\n",
       "+---------------+----------+--------------+---------+-------------+\n",
       "+---------------+---------------+-----+\n",
       "|      long     | sqft_living15 | ... |\n",
       "+---------------+---------------+-----+\n",
       "| -122.25677536 |     1340.0    | ... |\n",
       "|  -122.3188624 |     1690.0    | ... |\n",
       "| -122.23319601 |     2720.0    | ... |\n",
       "| -122.39318505 |     1360.0    | ... |\n",
       "| -122.04490059 |     1800.0    | ... |\n",
       "| -122.00528655 |     4760.0    | ... |\n",
       "| -122.32704857 |     2238.0    | ... |\n",
       "| -122.31457273 |     1650.0    | ... |\n",
       "| -122.33659507 |     1780.0    | ... |\n",
       "|  -122.0308176 |     2390.0    | ... |\n",
       "+---------------+---------------+-----+\n",
       "[21613 rows x 22 columns]\n",
       "Note: Only the head of the SFrame is printed.\n",
       "You can use print_rows(num_rows=m, num_columns=n) to print more rows and columns.>"
      ]
     },
     "execution_count": 92,
     "metadata": {},
     "output_type": "execute_result"
    }
   ],
   "source": [
    "sales.head"
   ]
  },
  {
   "cell_type": "markdown",
   "metadata": {
    "collapsed": true
   },
   "source": [
    "***QUIZ QUESTIONS***\n",
    "1. What is the value of the coefficient for `sqft_living` that you learned with no regularization, rounded to 1 decimal place?  What about the one with high regularization?\n",
    "2. What are the RSS on the test data for each of the set of weights above (initial, no regularization, high regularization)? \n",
    "3. We make prediction for the first house in the test set using two sets of weights (no regularization vs high regularization). Which weights make better prediction <u>for that particular house</u>?"
   ]
  },
  {
   "cell_type": "code",
   "execution_count": null,
   "metadata": {
    "collapsed": true
   },
   "outputs": [],
   "source": []
  }
 ],
 "metadata": {
  "kernelspec": {
   "display_name": "Python 2",
   "language": "python",
   "name": "python2"
  },
  "language_info": {
   "codemirror_mode": {
    "name": "ipython",
    "version": 2
   },
   "file_extension": ".py",
   "mimetype": "text/x-python",
   "name": "python",
   "nbconvert_exporter": "python",
   "pygments_lexer": "ipython2",
   "version": "2.7.11"
  }
 },
 "nbformat": 4,
 "nbformat_minor": 0
}
